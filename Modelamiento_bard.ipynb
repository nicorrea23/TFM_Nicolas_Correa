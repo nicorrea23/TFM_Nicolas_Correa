{
 "cells": [
  {
   "cell_type": "code",
   "execution_count": 1,
   "id": "283adb9b-294f-413c-b957-04013382e97d",
   "metadata": {},
   "outputs": [],
   "source": [
    "#!pip install keras\n",
    "#!pip install tensorflow"
   ]
  },
  {
   "cell_type": "code",
   "execution_count": 2,
   "id": "f59f173f-7262-41df-bd27-e413ea200bf2",
   "metadata": {},
   "outputs": [],
   "source": [
    "import pandas as pd\n",
    "import os\n",
    "import glob\n",
    "import tensorflow as tf\n",
    "import matplotlib.pyplot as plt\n",
    "\n",
    "\n",
    "import plotly.graph_objs as go\n",
    "from datetime import datetime\n",
    "import plotly.express as px\n",
    "import seaborn as sns\n",
    "import numpy as np\n",
    "\n",
    "from sklearn.preprocessing import LabelEncoder,MinMaxScaler\n",
    "\n",
    "\n",
    "import warnings\n",
    "warnings.filterwarnings(\"ignore\")"
   ]
  },
  {
   "cell_type": "code",
   "execution_count": 3,
   "id": "f9eb9e70-8f0b-4f37-87c7-7c165d77bc19",
   "metadata": {},
   "outputs": [],
   "source": [
    "#Se carga información de delitos en el periodo 2015-2023\n",
    "all_data = pd.DataFrame()\n",
    "for f in glob.glob(\"*.xlsx\"):\n",
    "    df = pd.read_excel(f)\n",
    "    all_data = all_data.append(df,ignore_index=True)"
   ]
  },
  {
   "cell_type": "markdown",
   "id": "b1462c4a-a427-4287-946b-4fbd5ef152ba",
   "metadata": {},
   "source": [
    "### Revisión de información de delitos"
   ]
  },
  {
   "cell_type": "code",
   "execution_count": 4,
   "id": "e8717be9-87f8-42b0-80ef-36eda4e5d606",
   "metadata": {},
   "outputs": [
    {
     "data": {
      "text/html": [
       "<div>\n",
       "<style scoped>\n",
       "    .dataframe tbody tr th:only-of-type {\n",
       "        vertical-align: middle;\n",
       "    }\n",
       "\n",
       "    .dataframe tbody tr th {\n",
       "        vertical-align: top;\n",
       "    }\n",
       "\n",
       "    .dataframe thead th {\n",
       "        text-align: right;\n",
       "    }\n",
       "</style>\n",
       "<table border=\"1\" class=\"dataframe\">\n",
       "  <thead>\n",
       "    <tr style=\"text-align: right;\">\n",
       "      <th></th>\n",
       "      <th>Fecha</th>\n",
       "      <th>Año</th>\n",
       "      <th>Nro del Mes</th>\n",
       "      <th>Mes</th>\n",
       "      <th>Localidad</th>\n",
       "      <th>UPZ</th>\n",
       "      <th>Delito</th>\n",
       "      <th>Sexo</th>\n",
       "      <th>Nombre Dia</th>\n",
       "      <th>Rango del Dia</th>\n",
       "      <th>Arma Empleada</th>\n",
       "      <th>Numero Hechos</th>\n",
       "    </tr>\n",
       "  </thead>\n",
       "  <tbody>\n",
       "    <tr>\n",
       "      <th>43359</th>\n",
       "      <td>2015-06-02</td>\n",
       "      <td>2015</td>\n",
       "      <td>6</td>\n",
       "      <td>JUN</td>\n",
       "      <td>01 - USAQUÉN</td>\n",
       "      <td>LOS CEDROS</td>\n",
       "      <td>HURTO DE CELULARES (CASOS)</td>\n",
       "      <td>FEMENINO</td>\n",
       "      <td>MARTES</td>\n",
       "      <td>TARDE</td>\n",
       "      <td>ARMA BLANCA / CORTOPUNZANTE</td>\n",
       "      <td>1.0</td>\n",
       "    </tr>\n",
       "  </tbody>\n",
       "</table>\n",
       "</div>"
      ],
      "text/plain": [
       "           Fecha   Año  Nro del Mes  Mes     Localidad         UPZ  \\\n",
       "43359 2015-06-02  2015            6  JUN  01 - USAQUÉN  LOS CEDROS   \n",
       "\n",
       "                           Delito      Sexo Nombre Dia Rango del Dia  \\\n",
       "43359  HURTO DE CELULARES (CASOS)  FEMENINO     MARTES         TARDE   \n",
       "\n",
       "                     Arma Empleada  Numero Hechos  \n",
       "43359  ARMA BLANCA / CORTOPUNZANTE            1.0  "
      ]
     },
     "execution_count": 4,
     "metadata": {},
     "output_type": "execute_result"
    }
   ],
   "source": [
    "all_data.sample()"
   ]
  },
  {
   "cell_type": "code",
   "execution_count": 5,
   "id": "866ff5f8-8a4c-4548-9a86-4861a1c8322a",
   "metadata": {},
   "outputs": [
    {
     "data": {
      "text/plain": [
       "Index(['Fecha', 'Año', 'Nro del Mes', 'Mes', 'Localidad', 'UPZ', 'Delito',\n",
       "       'Sexo', 'Nombre Dia', 'Rango del Dia', 'Arma Empleada',\n",
       "       'Numero Hechos'],\n",
       "      dtype='object')"
      ]
     },
     "execution_count": 5,
     "metadata": {},
     "output_type": "execute_result"
    }
   ],
   "source": [
    "all_data.columns"
   ]
  },
  {
   "cell_type": "code",
   "execution_count": 6,
   "id": "91a4a6e0-b29d-4802-884e-2c96277683f4",
   "metadata": {},
   "outputs": [],
   "source": [
    "#Se define la columna fecha en formato datetype\n",
    "all_data[\"Fecha\"]=all_data[\"Fecha\"].astype('datetime64[ns]')"
   ]
  },
  {
   "cell_type": "code",
   "execution_count": 7,
   "id": "afcd7e5b-cb7a-430c-bf5c-e4ac3b7317aa",
   "metadata": {},
   "outputs": [
    {
     "data": {
      "text/plain": [
       "Fecha            datetime64[ns]\n",
       "Año                       int64\n",
       "Nro del Mes               int64\n",
       "Mes                      object\n",
       "Localidad                object\n",
       "UPZ                      object\n",
       "Delito                   object\n",
       "Sexo                     object\n",
       "Nombre Dia               object\n",
       "Rango del Dia            object\n",
       "Arma Empleada            object\n",
       "Numero Hechos           float64\n",
       "dtype: object"
      ]
     },
     "execution_count": 7,
     "metadata": {},
     "output_type": "execute_result"
    }
   ],
   "source": [
    "all_data.dtypes"
   ]
  },
  {
   "cell_type": "code",
   "execution_count": 8,
   "id": "a9dbb87c-bb8d-4010-abec-b26ddf0656ec",
   "metadata": {},
   "outputs": [
    {
     "data": {
      "text/plain": [
       "Fecha            0\n",
       "Año              0\n",
       "Nro del Mes      0\n",
       "Mes              0\n",
       "Localidad        8\n",
       "UPZ              8\n",
       "Delito           8\n",
       "Sexo             8\n",
       "Nombre Dia       8\n",
       "Rango del Dia    8\n",
       "Arma Empleada    8\n",
       "Numero Hechos    8\n",
       "dtype: int64"
      ]
     },
     "execution_count": 8,
     "metadata": {},
     "output_type": "execute_result"
    }
   ],
   "source": [
    "#Se identifican rows vacias\n",
    "all_data.isna().sum()"
   ]
  },
  {
   "cell_type": "code",
   "execution_count": 9,
   "id": "a2d50e55-6bf9-4481-8567-8a9a11062d26",
   "metadata": {},
   "outputs": [
    {
     "data": {
      "text/html": [
       "<div>\n",
       "<style scoped>\n",
       "    .dataframe tbody tr th:only-of-type {\n",
       "        vertical-align: middle;\n",
       "    }\n",
       "\n",
       "    .dataframe tbody tr th {\n",
       "        vertical-align: top;\n",
       "    }\n",
       "\n",
       "    .dataframe thead th {\n",
       "        text-align: right;\n",
       "    }\n",
       "</style>\n",
       "<table border=\"1\" class=\"dataframe\">\n",
       "  <thead>\n",
       "    <tr style=\"text-align: right;\">\n",
       "      <th></th>\n",
       "      <th>Fecha</th>\n",
       "      <th>Año</th>\n",
       "      <th>Nro del Mes</th>\n",
       "      <th>Mes</th>\n",
       "      <th>Localidad</th>\n",
       "      <th>UPZ</th>\n",
       "      <th>Delito</th>\n",
       "      <th>Sexo</th>\n",
       "      <th>Nombre Dia</th>\n",
       "      <th>Rango del Dia</th>\n",
       "      <th>Arma Empleada</th>\n",
       "      <th>Numero Hechos</th>\n",
       "    </tr>\n",
       "  </thead>\n",
       "  <tbody>\n",
       "    <tr>\n",
       "      <th>82767</th>\n",
       "      <td>2015-11-09</td>\n",
       "      <td>2015</td>\n",
       "      <td>11</td>\n",
       "      <td>NOV</td>\n",
       "      <td>NaN</td>\n",
       "      <td>NaN</td>\n",
       "      <td>NaN</td>\n",
       "      <td>NaN</td>\n",
       "      <td>NaN</td>\n",
       "      <td>NaN</td>\n",
       "      <td>NaN</td>\n",
       "      <td>NaN</td>\n",
       "    </tr>\n",
       "    <tr>\n",
       "      <th>166665</th>\n",
       "      <td>2016-08-18</td>\n",
       "      <td>2016</td>\n",
       "      <td>8</td>\n",
       "      <td>AGO</td>\n",
       "      <td>NaN</td>\n",
       "      <td>NaN</td>\n",
       "      <td>NaN</td>\n",
       "      <td>NaN</td>\n",
       "      <td>NaN</td>\n",
       "      <td>NaN</td>\n",
       "      <td>NaN</td>\n",
       "      <td>NaN</td>\n",
       "    </tr>\n",
       "    <tr>\n",
       "      <th>231246</th>\n",
       "      <td>2017-04-19</td>\n",
       "      <td>2017</td>\n",
       "      <td>4</td>\n",
       "      <td>ABR</td>\n",
       "      <td>NaN</td>\n",
       "      <td>NaN</td>\n",
       "      <td>NaN</td>\n",
       "      <td>NaN</td>\n",
       "      <td>NaN</td>\n",
       "      <td>NaN</td>\n",
       "      <td>NaN</td>\n",
       "      <td>NaN</td>\n",
       "    </tr>\n",
       "    <tr>\n",
       "      <th>333331</th>\n",
       "      <td>2018-03-04</td>\n",
       "      <td>2018</td>\n",
       "      <td>3</td>\n",
       "      <td>MAR</td>\n",
       "      <td>NaN</td>\n",
       "      <td>NaN</td>\n",
       "      <td>NaN</td>\n",
       "      <td>NaN</td>\n",
       "      <td>NaN</td>\n",
       "      <td>NaN</td>\n",
       "      <td>NaN</td>\n",
       "      <td>NaN</td>\n",
       "    </tr>\n",
       "    <tr>\n",
       "      <th>382199</th>\n",
       "      <td>2019-03-02</td>\n",
       "      <td>2019</td>\n",
       "      <td>3</td>\n",
       "      <td>MAR</td>\n",
       "      <td>NaN</td>\n",
       "      <td>NaN</td>\n",
       "      <td>NaN</td>\n",
       "      <td>NaN</td>\n",
       "      <td>NaN</td>\n",
       "      <td>NaN</td>\n",
       "      <td>NaN</td>\n",
       "      <td>NaN</td>\n",
       "    </tr>\n",
       "    <tr>\n",
       "      <th>480901</th>\n",
       "      <td>2020-03-11</td>\n",
       "      <td>2020</td>\n",
       "      <td>3</td>\n",
       "      <td>MAR</td>\n",
       "      <td>NaN</td>\n",
       "      <td>NaN</td>\n",
       "      <td>NaN</td>\n",
       "      <td>NaN</td>\n",
       "      <td>NaN</td>\n",
       "      <td>NaN</td>\n",
       "      <td>NaN</td>\n",
       "      <td>NaN</td>\n",
       "    </tr>\n",
       "    <tr>\n",
       "      <th>556624</th>\n",
       "      <td>2021-03-16</td>\n",
       "      <td>2021</td>\n",
       "      <td>3</td>\n",
       "      <td>MAR</td>\n",
       "      <td>NaN</td>\n",
       "      <td>NaN</td>\n",
       "      <td>NaN</td>\n",
       "      <td>NaN</td>\n",
       "      <td>NaN</td>\n",
       "      <td>NaN</td>\n",
       "      <td>NaN</td>\n",
       "      <td>NaN</td>\n",
       "    </tr>\n",
       "    <tr>\n",
       "      <th>625368</th>\n",
       "      <td>2022-02-21</td>\n",
       "      <td>2022</td>\n",
       "      <td>2</td>\n",
       "      <td>FEB</td>\n",
       "      <td>NaN</td>\n",
       "      <td>NaN</td>\n",
       "      <td>NaN</td>\n",
       "      <td>NaN</td>\n",
       "      <td>NaN</td>\n",
       "      <td>NaN</td>\n",
       "      <td>NaN</td>\n",
       "      <td>NaN</td>\n",
       "    </tr>\n",
       "  </tbody>\n",
       "</table>\n",
       "</div>"
      ],
      "text/plain": [
       "            Fecha   Año  Nro del Mes  Mes Localidad  UPZ Delito Sexo  \\\n",
       "82767  2015-11-09  2015           11  NOV       NaN  NaN    NaN  NaN   \n",
       "166665 2016-08-18  2016            8  AGO       NaN  NaN    NaN  NaN   \n",
       "231246 2017-04-19  2017            4  ABR       NaN  NaN    NaN  NaN   \n",
       "333331 2018-03-04  2018            3  MAR       NaN  NaN    NaN  NaN   \n",
       "382199 2019-03-02  2019            3  MAR       NaN  NaN    NaN  NaN   \n",
       "480901 2020-03-11  2020            3  MAR       NaN  NaN    NaN  NaN   \n",
       "556624 2021-03-16  2021            3  MAR       NaN  NaN    NaN  NaN   \n",
       "625368 2022-02-21  2022            2  FEB       NaN  NaN    NaN  NaN   \n",
       "\n",
       "       Nombre Dia Rango del Dia Arma Empleada  Numero Hechos  \n",
       "82767         NaN           NaN           NaN            NaN  \n",
       "166665        NaN           NaN           NaN            NaN  \n",
       "231246        NaN           NaN           NaN            NaN  \n",
       "333331        NaN           NaN           NaN            NaN  \n",
       "382199        NaN           NaN           NaN            NaN  \n",
       "480901        NaN           NaN           NaN            NaN  \n",
       "556624        NaN           NaN           NaN            NaN  \n",
       "625368        NaN           NaN           NaN            NaN  "
      ]
     },
     "execution_count": 9,
     "metadata": {},
     "output_type": "execute_result"
    }
   ],
   "source": [
    "all_data[all_data.Localidad.isna()]"
   ]
  },
  {
   "cell_type": "code",
   "execution_count": 10,
   "id": "da7a6f5b-364d-4531-8750-8890d7c53a07",
   "metadata": {},
   "outputs": [
    {
     "data": {
      "text/html": [
       "<div>\n",
       "<style scoped>\n",
       "    .dataframe tbody tr th:only-of-type {\n",
       "        vertical-align: middle;\n",
       "    }\n",
       "\n",
       "    .dataframe tbody tr th {\n",
       "        vertical-align: top;\n",
       "    }\n",
       "\n",
       "    .dataframe thead th {\n",
       "        text-align: right;\n",
       "    }\n",
       "</style>\n",
       "<table border=\"1\" class=\"dataframe\">\n",
       "  <thead>\n",
       "    <tr style=\"text-align: right;\">\n",
       "      <th></th>\n",
       "      <th>Año</th>\n",
       "      <th>Nro del Mes</th>\n",
       "      <th>Numero Hechos</th>\n",
       "    </tr>\n",
       "  </thead>\n",
       "  <tbody>\n",
       "    <tr>\n",
       "      <th>count</th>\n",
       "      <td>708611.000000</td>\n",
       "      <td>708611.000000</td>\n",
       "      <td>708603.000000</td>\n",
       "    </tr>\n",
       "    <tr>\n",
       "      <th>mean</th>\n",
       "      <td>2018.766382</td>\n",
       "      <td>4.000032</td>\n",
       "      <td>1.452781</td>\n",
       "    </tr>\n",
       "    <tr>\n",
       "      <th>std</th>\n",
       "      <td>2.463126</td>\n",
       "      <td>3.288540</td>\n",
       "      <td>3.315952</td>\n",
       "    </tr>\n",
       "    <tr>\n",
       "      <th>min</th>\n",
       "      <td>2015.000000</td>\n",
       "      <td>1.000000</td>\n",
       "      <td>1.000000</td>\n",
       "    </tr>\n",
       "    <tr>\n",
       "      <th>25%</th>\n",
       "      <td>2017.000000</td>\n",
       "      <td>1.000000</td>\n",
       "      <td>1.000000</td>\n",
       "    </tr>\n",
       "    <tr>\n",
       "      <th>50%</th>\n",
       "      <td>2019.000000</td>\n",
       "      <td>2.000000</td>\n",
       "      <td>1.000000</td>\n",
       "    </tr>\n",
       "    <tr>\n",
       "      <th>75%</th>\n",
       "      <td>2021.000000</td>\n",
       "      <td>6.000000</td>\n",
       "      <td>2.000000</td>\n",
       "    </tr>\n",
       "    <tr>\n",
       "      <th>max</th>\n",
       "      <td>2023.000000</td>\n",
       "      <td>12.000000</td>\n",
       "      <td>1466.000000</td>\n",
       "    </tr>\n",
       "  </tbody>\n",
       "</table>\n",
       "</div>"
      ],
      "text/plain": [
       "                 Año    Nro del Mes  Numero Hechos\n",
       "count  708611.000000  708611.000000  708603.000000\n",
       "mean     2018.766382       4.000032       1.452781\n",
       "std         2.463126       3.288540       3.315952\n",
       "min      2015.000000       1.000000       1.000000\n",
       "25%      2017.000000       1.000000       1.000000\n",
       "50%      2019.000000       2.000000       1.000000\n",
       "75%      2021.000000       6.000000       2.000000\n",
       "max      2023.000000      12.000000    1466.000000"
      ]
     },
     "execution_count": 10,
     "metadata": {},
     "output_type": "execute_result"
    }
   ],
   "source": [
    "all_data.describe()"
   ]
  },
  {
   "cell_type": "code",
   "execution_count": 11,
   "id": "c7710a32-de09-4aa0-a8df-dd3390e23cb4",
   "metadata": {},
   "outputs": [],
   "source": [
    "#Se eliminan los registros con valores nulos\n",
    "\n",
    "df2=all_data.dropna(subset=['Localidad'])"
   ]
  },
  {
   "cell_type": "code",
   "execution_count": 12,
   "id": "da033c8e-3fff-4267-800e-f48359b3c7b9",
   "metadata": {},
   "outputs": [
    {
     "name": "stdout",
     "output_type": "stream",
     "text": [
      "<class 'pandas.core.frame.DataFrame'>\n",
      "Int64Index: 708603 entries, 0 to 708610\n",
      "Data columns (total 12 columns):\n",
      " #   Column         Non-Null Count   Dtype         \n",
      "---  ------         --------------   -----         \n",
      " 0   Fecha          708603 non-null  datetime64[ns]\n",
      " 1   Año            708603 non-null  int64         \n",
      " 2   Nro del Mes    708603 non-null  int64         \n",
      " 3   Mes            708603 non-null  object        \n",
      " 4   Localidad      708603 non-null  object        \n",
      " 5   UPZ            708603 non-null  object        \n",
      " 6   Delito         708603 non-null  object        \n",
      " 7   Sexo           708603 non-null  object        \n",
      " 8   Nombre Dia     708603 non-null  object        \n",
      " 9   Rango del Dia  708603 non-null  object        \n",
      " 10  Arma Empleada  708603 non-null  object        \n",
      " 11  Numero Hechos  708603 non-null  float64       \n",
      "dtypes: datetime64[ns](1), float64(1), int64(2), object(8)\n",
      "memory usage: 70.3+ MB\n"
     ]
    }
   ],
   "source": [
    "df2.info()"
   ]
  },
  {
   "cell_type": "code",
   "execution_count": 13,
   "id": "d74a7197-e50c-4a12-b4e7-eb2ae8aee0d7",
   "metadata": {},
   "outputs": [],
   "source": [
    "Delito='VIOLENCIA INTRAFAMILIAR'\n",
    "Ano=2019\n",
    "UPZ='CHICO LAGO'"
   ]
  },
  {
   "cell_type": "code",
   "execution_count": 14,
   "id": "e6e2c09b-b495-4248-a085-c67c98a877ca",
   "metadata": {},
   "outputs": [],
   "source": [
    "df2=df2[(df2[\"Delito\"]==Delito)&(df2[\"Año\"]>=2018)&(df2[\"Año\"]<=2022)&(df2[\"Localidad\"]==\"02 - CHAPINERO\")]"
   ]
  },
  {
   "cell_type": "code",
   "execution_count": 15,
   "id": "28337186-84af-499e-aaa9-93a92b5365ce",
   "metadata": {},
   "outputs": [
    {
     "data": {
      "text/html": [
       "<div>\n",
       "<style scoped>\n",
       "    .dataframe tbody tr th:only-of-type {\n",
       "        vertical-align: middle;\n",
       "    }\n",
       "\n",
       "    .dataframe tbody tr th {\n",
       "        vertical-align: top;\n",
       "    }\n",
       "\n",
       "    .dataframe thead th {\n",
       "        text-align: right;\n",
       "    }\n",
       "</style>\n",
       "<table border=\"1\" class=\"dataframe\">\n",
       "  <thead>\n",
       "    <tr style=\"text-align: right;\">\n",
       "      <th></th>\n",
       "      <th>Fecha</th>\n",
       "      <th>Año</th>\n",
       "      <th>Nro del Mes</th>\n",
       "      <th>Mes</th>\n",
       "      <th>Localidad</th>\n",
       "      <th>UPZ</th>\n",
       "      <th>Delito</th>\n",
       "      <th>Sexo</th>\n",
       "      <th>Nombre Dia</th>\n",
       "      <th>Rango del Dia</th>\n",
       "      <th>Arma Empleada</th>\n",
       "      <th>Numero Hechos</th>\n",
       "    </tr>\n",
       "  </thead>\n",
       "  <tbody>\n",
       "    <tr>\n",
       "      <th>642537</th>\n",
       "      <td>2022-07-28</td>\n",
       "      <td>2022</td>\n",
       "      <td>7</td>\n",
       "      <td>JUL</td>\n",
       "      <td>02 - CHAPINERO</td>\n",
       "      <td>CHICO LAGO</td>\n",
       "      <td>VIOLENCIA INTRAFAMILIAR</td>\n",
       "      <td>FEMENINO</td>\n",
       "      <td>JUEVES</td>\n",
       "      <td>MADRUGADA</td>\n",
       "      <td>SIN EMPLEO DE ARMAS</td>\n",
       "      <td>2.0</td>\n",
       "    </tr>\n",
       "    <tr>\n",
       "      <th>627483</th>\n",
       "      <td>2022-03-11</td>\n",
       "      <td>2022</td>\n",
       "      <td>3</td>\n",
       "      <td>MAR</td>\n",
       "      <td>02 - CHAPINERO</td>\n",
       "      <td>CHICO LAGO</td>\n",
       "      <td>VIOLENCIA INTRAFAMILIAR</td>\n",
       "      <td>FEMENINO</td>\n",
       "      <td>VIERNES</td>\n",
       "      <td>MAÑANA</td>\n",
       "      <td>SIN EMPLEO DE ARMAS</td>\n",
       "      <td>2.0</td>\n",
       "    </tr>\n",
       "    <tr>\n",
       "      <th>603789</th>\n",
       "      <td>2022-01-28</td>\n",
       "      <td>2022</td>\n",
       "      <td>1</td>\n",
       "      <td>ENE</td>\n",
       "      <td>02 - CHAPINERO</td>\n",
       "      <td>CHICO LAGO</td>\n",
       "      <td>VIOLENCIA INTRAFAMILIAR</td>\n",
       "      <td>FEMENINO</td>\n",
       "      <td>VIERNES</td>\n",
       "      <td>MADRUGADA</td>\n",
       "      <td>SIN EMPLEO DE ARMAS</td>\n",
       "      <td>2.0</td>\n",
       "    </tr>\n",
       "    <tr>\n",
       "      <th>444136</th>\n",
       "      <td>2020-01-31</td>\n",
       "      <td>2020</td>\n",
       "      <td>1</td>\n",
       "      <td>ENE</td>\n",
       "      <td>02 - CHAPINERO</td>\n",
       "      <td>CHAPINERO</td>\n",
       "      <td>VIOLENCIA INTRAFAMILIAR</td>\n",
       "      <td>FEMENINO</td>\n",
       "      <td>VIERNES</td>\n",
       "      <td>MADRUGADA</td>\n",
       "      <td>NO REPORTADO</td>\n",
       "      <td>1.0</td>\n",
       "    </tr>\n",
       "    <tr>\n",
       "      <th>345429</th>\n",
       "      <td>2019-01-19</td>\n",
       "      <td>2019</td>\n",
       "      <td>1</td>\n",
       "      <td>ENE</td>\n",
       "      <td>02 - CHAPINERO</td>\n",
       "      <td>PARDO RUBIO</td>\n",
       "      <td>VIOLENCIA INTRAFAMILIAR</td>\n",
       "      <td>FEMENINO</td>\n",
       "      <td>SÁBADO</td>\n",
       "      <td>NOCHE</td>\n",
       "      <td>NO REPORTADO</td>\n",
       "      <td>1.0</td>\n",
       "    </tr>\n",
       "  </tbody>\n",
       "</table>\n",
       "</div>"
      ],
      "text/plain": [
       "            Fecha   Año  Nro del Mes  Mes       Localidad          UPZ  \\\n",
       "642537 2022-07-28  2022            7  JUL  02 - CHAPINERO   CHICO LAGO   \n",
       "627483 2022-03-11  2022            3  MAR  02 - CHAPINERO   CHICO LAGO   \n",
       "603789 2022-01-28  2022            1  ENE  02 - CHAPINERO   CHICO LAGO   \n",
       "444136 2020-01-31  2020            1  ENE  02 - CHAPINERO    CHAPINERO   \n",
       "345429 2019-01-19  2019            1  ENE  02 - CHAPINERO  PARDO RUBIO   \n",
       "\n",
       "                         Delito      Sexo Nombre Dia Rango del Dia  \\\n",
       "642537  VIOLENCIA INTRAFAMILIAR  FEMENINO     JUEVES     MADRUGADA   \n",
       "627483  VIOLENCIA INTRAFAMILIAR  FEMENINO    VIERNES        MAÑANA   \n",
       "603789  VIOLENCIA INTRAFAMILIAR  FEMENINO    VIERNES     MADRUGADA   \n",
       "444136  VIOLENCIA INTRAFAMILIAR  FEMENINO    VIERNES     MADRUGADA   \n",
       "345429  VIOLENCIA INTRAFAMILIAR  FEMENINO     SÁBADO         NOCHE   \n",
       "\n",
       "              Arma Empleada  Numero Hechos  \n",
       "642537  SIN EMPLEO DE ARMAS            2.0  \n",
       "627483  SIN EMPLEO DE ARMAS            2.0  \n",
       "603789  SIN EMPLEO DE ARMAS            2.0  \n",
       "444136         NO REPORTADO            1.0  \n",
       "345429         NO REPORTADO            1.0  "
      ]
     },
     "execution_count": 15,
     "metadata": {},
     "output_type": "execute_result"
    }
   ],
   "source": [
    "df2.sample(5)"
   ]
  },
  {
   "cell_type": "code",
   "execution_count": 16,
   "id": "42b4955c-78c4-42b0-a983-237910617093",
   "metadata": {},
   "outputs": [],
   "source": [
    "df2=df2.groupby(by=[\"Fecha\"]).sum()"
   ]
  },
  {
   "cell_type": "code",
   "execution_count": 17,
   "id": "db3211a0-c801-4da7-94ae-d1a91cab59a1",
   "metadata": {},
   "outputs": [],
   "source": [
    "#Se eliminan variables Año, Nro del Mes y Mes\n",
    "\n",
    "#df2=df2.drop([\"Año\", \"Nro del Mes\",\"Mes\",\"Fecha\"],axis=1)\n",
    "df2=df2.drop([\"Año\", \"Nro del Mes\"],axis=1)"
   ]
  },
  {
   "cell_type": "code",
   "execution_count": 18,
   "id": "23ba1cdb-ee84-4184-afab-be27adae8d70",
   "metadata": {},
   "outputs": [
    {
     "data": {
      "text/plain": [
       "Index([], dtype='object')"
      ]
     },
     "execution_count": 18,
     "metadata": {},
     "output_type": "execute_result"
    }
   ],
   "source": [
    "#Columnas con variables categóricas\n",
    "df2.select_dtypes('object').columns"
   ]
  },
  {
   "cell_type": "code",
   "execution_count": 19,
   "id": "b37004a5-fd55-4ac8-a0e2-6fb038e5c9d4",
   "metadata": {},
   "outputs": [],
   "source": [
    "#Se cambian a variables numéricas a categóricas con Label Encoder\n",
    "\n",
    "for i in df2.select_dtypes('object').columns:\n",
    "  le = LabelEncoder().fit(df2[i])\n",
    "  df2[i] = le.transform(df2[i])"
   ]
  },
  {
   "cell_type": "code",
   "execution_count": 20,
   "id": "8054679c-661c-4773-8a70-0e49deac6d8a",
   "metadata": {},
   "outputs": [
    {
     "data": {
      "text/html": [
       "<div>\n",
       "<style scoped>\n",
       "    .dataframe tbody tr th:only-of-type {\n",
       "        vertical-align: middle;\n",
       "    }\n",
       "\n",
       "    .dataframe tbody tr th {\n",
       "        vertical-align: top;\n",
       "    }\n",
       "\n",
       "    .dataframe thead th {\n",
       "        text-align: right;\n",
       "    }\n",
       "</style>\n",
       "<table border=\"1\" class=\"dataframe\">\n",
       "  <thead>\n",
       "    <tr style=\"text-align: right;\">\n",
       "      <th></th>\n",
       "      <th>Numero Hechos</th>\n",
       "    </tr>\n",
       "  </thead>\n",
       "  <tbody>\n",
       "    <tr>\n",
       "      <th>count</th>\n",
       "      <td>464.000000</td>\n",
       "    </tr>\n",
       "    <tr>\n",
       "      <th>mean</th>\n",
       "      <td>2.497845</td>\n",
       "    </tr>\n",
       "    <tr>\n",
       "      <th>std</th>\n",
       "      <td>1.511652</td>\n",
       "    </tr>\n",
       "    <tr>\n",
       "      <th>min</th>\n",
       "      <td>1.000000</td>\n",
       "    </tr>\n",
       "    <tr>\n",
       "      <th>25%</th>\n",
       "      <td>2.000000</td>\n",
       "    </tr>\n",
       "    <tr>\n",
       "      <th>50%</th>\n",
       "      <td>2.000000</td>\n",
       "    </tr>\n",
       "    <tr>\n",
       "      <th>75%</th>\n",
       "      <td>3.000000</td>\n",
       "    </tr>\n",
       "    <tr>\n",
       "      <th>max</th>\n",
       "      <td>11.000000</td>\n",
       "    </tr>\n",
       "  </tbody>\n",
       "</table>\n",
       "</div>"
      ],
      "text/plain": [
       "       Numero Hechos\n",
       "count     464.000000\n",
       "mean        2.497845\n",
       "std         1.511652\n",
       "min         1.000000\n",
       "25%         2.000000\n",
       "50%         2.000000\n",
       "75%         3.000000\n",
       "max        11.000000"
      ]
     },
     "execution_count": 20,
     "metadata": {},
     "output_type": "execute_result"
    }
   ],
   "source": [
    "df2.describe()"
   ]
  },
  {
   "cell_type": "code",
   "execution_count": 21,
   "id": "dee0f63a-7e9a-40b7-8b3f-15a038fdd76c",
   "metadata": {},
   "outputs": [
    {
     "data": {
      "text/plain": [
       "Numero Hechos    float64\n",
       "dtype: object"
      ]
     },
     "execution_count": 21,
     "metadata": {},
     "output_type": "execute_result"
    }
   ],
   "source": [
    "df2.dtypes"
   ]
  },
  {
   "cell_type": "code",
   "execution_count": 22,
   "id": "7abdc653-9a79-4c6b-b3a4-ebe703b20b28",
   "metadata": {},
   "outputs": [
    {
     "data": {
      "text/plain": [
       "(464, 1)"
      ]
     },
     "execution_count": 22,
     "metadata": {},
     "output_type": "execute_result"
    }
   ],
   "source": [
    "df2.shape"
   ]
  },
  {
   "cell_type": "code",
   "execution_count": 23,
   "id": "8c55fa70-2bd0-4366-801b-3d0453cf1d9c",
   "metadata": {},
   "outputs": [
    {
     "data": {
      "text/plain": [
       "Index(['Numero Hechos'], dtype='object')"
      ]
     },
     "execution_count": 23,
     "metadata": {},
     "output_type": "execute_result"
    }
   ],
   "source": [
    "df2.columns"
   ]
  },
  {
   "cell_type": "code",
   "execution_count": 24,
   "id": "c4685fd6-4a7a-4d55-83a1-d69fad17991c",
   "metadata": {},
   "outputs": [],
   "source": [
    "def custom_ts_multi_data_prep(dataset, target, start, end, window, horizon):\n",
    "    X = []\n",
    "    y = []\n",
    "    start = start + window\n",
    "    if end is None:\n",
    "        end = len(dataset) - horizon\n",
    "\n",
    "    for i in range(start, end):\n",
    "        indices = range(i-window, i)\n",
    "        X.append(dataset[indices])\n",
    "\n",
    "        indicey = range(i+1, i+1+horizon)\n",
    "        y.append(target[indicey])\n",
    "    return np.array(X), np.array(y)"
   ]
  },
  {
   "cell_type": "code",
   "execution_count": 25,
   "id": "714added-735a-468f-b317-6255e5a16675",
   "metadata": {},
   "outputs": [],
   "source": [
    "intervalo_validar=int(round(df2.shape[0]*0.1,0))"
   ]
  },
  {
   "cell_type": "code",
   "execution_count": 26,
   "id": "07e3771b-0537-44e2-a40f-0ed150d4c7c1",
   "metadata": {},
   "outputs": [],
   "source": [
    "hist_window = 30\n",
    "horizon = 30"
   ]
  },
  {
   "cell_type": "code",
   "execution_count": 27,
   "id": "bf4f62c6-1021-4c08-b61f-5327e98719df",
   "metadata": {},
   "outputs": [],
   "source": [
    "#validate =df2[['Localidad', 'UPZ', 'Delito', 'Sexo', 'Nombre Dia','Rango del Dia', 'Arma Empleada', 'Numero Hechos']].tail(intervalo_validar)\n",
    "validate =df2[['Numero Hechos']].tail(horizon)"
   ]
  },
  {
   "cell_type": "code",
   "execution_count": 28,
   "id": "a309102d-26ca-4f77-a632-f2145d2ff223",
   "metadata": {},
   "outputs": [],
   "source": [
    "df2.drop(df2.tail(intervalo_validar).index,inplace=True)"
   ]
  },
  {
   "cell_type": "code",
   "execution_count": 29,
   "id": "763f5702-f103-4a69-af39-142316930062",
   "metadata": {},
   "outputs": [],
   "source": [
    "df3_fecha=df2.groupby(['Fecha'])['Numero Hechos'].sum()"
   ]
  },
  {
   "cell_type": "code",
   "execution_count": 30,
   "id": "9615b813-3075-4e1d-9e9b-57fce02aa9ab",
   "metadata": {},
   "outputs": [
    {
     "data": {
      "text/plain": [
       "<Axes: xlabel='Fecha', ylabel='Numero Hechos'>"
      ]
     },
     "execution_count": 30,
     "metadata": {},
     "output_type": "execute_result"
    },
    {
     "data": {
      "image/png": "[encoded data removed]",
      "text/plain": [
       "<Figure size 640x480 with 1 Axes>"
      ]
     },
     "metadata": {},
     "output_type": "display_data"
    }
   ],
   "source": [
    "sns.lineplot(data=df3_fecha)"
   ]
  },
  {
   "cell_type": "code",
   "execution_count": 31,
   "id": "038c2d0d-6536-4bf3-958b-b6d01661e8f7",
   "metadata": {},
   "outputs": [],
   "source": [
    "df2=df2.reset_index()"
   ]
  },
  {
   "cell_type": "code",
   "execution_count": 32,
   "id": "d2952b94-28c3-47a6-9af9-a4300f5ceb6c",
   "metadata": {},
   "outputs": [],
   "source": [
    "X_scaler = MinMaxScaler()\n",
    "Y_scaler = MinMaxScaler()\n",
    "#X_data = X_scaler.fit_transform(df2[[ 'Localidad', 'UPZ', 'Delito', 'Sexo', 'Nombre Dia','Rango del Dia', 'Arma Empleada', 'Numero Hechos']])\n",
    "X_data = X_scaler.fit_transform(df2[['Fecha']])\n",
    "Y_data = Y_scaler.fit_transform(df2[['Numero Hechos']])"
   ]
  },
  {
   "cell_type": "code",
   "execution_count": 33,
   "id": "42ad4592-741b-451a-ab88-915ee00e4229",
   "metadata": {},
   "outputs": [],
   "source": [
    "import math\n",
    "TRAIN_SPLIT=math.floor(X_data.shape[0]*0.7)"
   ]
  },
  {
   "cell_type": "code",
   "execution_count": 34,
   "id": "23277777-95a8-4d24-9471-d60b1934c608",
   "metadata": {},
   "outputs": [
    {
     "data": {
      "text/plain": [
       "292"
      ]
     },
     "execution_count": 34,
     "metadata": {},
     "output_type": "execute_result"
    }
   ],
   "source": [
    "TRAIN_SPLIT"
   ]
  },
  {
   "cell_type": "code",
   "execution_count": 35,
   "id": "c0dc6595-7d25-419e-80bb-c93ea8879724",
   "metadata": {},
   "outputs": [],
   "source": [
    "x_train, y_train = custom_ts_multi_data_prep(X_data, Y_data, 0, TRAIN_SPLIT, hist_window, horizon)\n",
    "x_vali, y_vali = custom_ts_multi_data_prep(X_data, Y_data, TRAIN_SPLIT, None, hist_window, horizon)"
   ]
  },
  {
   "cell_type": "code",
   "execution_count": 36,
   "id": "fd96f08e-cb55-4e81-9e04-a4aba831f82c",
   "metadata": {},
   "outputs": [
    {
     "name": "stdout",
     "output_type": "stream",
     "text": [
      "Multiple window of past history\n",
      "\n",
      "[[0.        ]\n",
      " [0.00123381]\n",
      " [0.00308452]\n",
      " [0.00370142]\n",
      " [0.00493523]\n",
      " [0.00555213]\n",
      " [0.00616903]\n",
      " [0.00678593]\n",
      " [0.00740284]\n",
      " [0.00801974]\n",
      " [0.00863664]\n",
      " [0.00925355]\n",
      " [0.00987045]\n",
      " [0.01172116]\n",
      " [0.01295497]\n",
      " [0.01357187]\n",
      " [0.01418877]\n",
      " [0.01480568]\n",
      " [0.01542258]\n",
      " [0.01603948]\n",
      " [0.01665638]\n",
      " [0.01727329]\n",
      " [0.01789019]\n",
      " [0.01850709]\n",
      " [0.019124  ]\n",
      " [0.0203578 ]\n",
      " [0.02097471]\n",
      " [0.02159161]\n",
      " [0.02220851]\n",
      " [0.02282542]]\n",
      "\n",
      " Target horizon\n",
      "\n",
      "[[0.1]\n",
      " [0. ]\n",
      " [0. ]\n",
      " [0.1]\n",
      " [0. ]\n",
      " [0.1]\n",
      " [0. ]\n",
      " [0.1]\n",
      " [0.2]\n",
      " [0.1]\n",
      " [0. ]\n",
      " [0. ]\n",
      " [0.1]\n",
      " [0.2]\n",
      " [0.2]\n",
      " [0.1]\n",
      " [0.2]\n",
      " [0. ]\n",
      " [0.2]\n",
      " [0.4]\n",
      " [0.1]\n",
      " [0.1]\n",
      " [0.2]\n",
      " [0.1]\n",
      " [0.3]\n",
      " [0.1]\n",
      " [0.1]\n",
      " [0.2]\n",
      " [0.3]\n",
      " [0.1]]\n"
     ]
    }
   ],
   "source": [
    "print ('Multiple window of past history\\n')\n",
    "print(x_train[0])\n",
    "print ('\\n Target horizon\\n')\n",
    "print (y_train[0])"
   ]
  },
  {
   "cell_type": "code",
   "execution_count": 37,
   "id": "1d829c67-8c8a-47fb-9ad3-3f14ae0945d2",
   "metadata": {},
   "outputs": [],
   "source": [
    "batch_size = 256\n",
    "buffer_size = 150\n",
    "\n",
    "train_data = tf.data.Dataset.from_tensor_slices((x_train, y_train))\n",
    "train_data = train_data.cache().shuffle(buffer_size).batch(batch_size).repeat()\n",
    "\n",
    "val_data = tf.data.Dataset.from_tensor_slices((x_vali, y_vali))\n",
    "val_data = val_data.batch(batch_size).repeat()"
   ]
  },
  {
   "cell_type": "code",
   "execution_count": 38,
   "id": "575de51e-96c9-4c38-8612-952b1688f375",
   "metadata": {},
   "outputs": [],
   "source": [
    "lstm_model=[]"
   ]
  },
  {
   "cell_type": "code",
   "execution_count": 39,
   "id": "ceff3ea3-d9b3-40ea-b8af-7e07a13f116e",
   "metadata": {},
   "outputs": [
    {
     "data": {
      "text/plain": [
       "(262, 30, 1)"
      ]
     },
     "execution_count": 39,
     "metadata": {},
     "output_type": "execute_result"
    }
   ],
   "source": [
    "x_train.shape"
   ]
  },
  {
   "cell_type": "code",
   "execution_count": 40,
   "id": "4f7e6ce4-394b-4d6a-a477-ad92ab371bd4",
   "metadata": {},
   "outputs": [],
   "source": [
    "lstm_model = tf.keras.models.Sequential([\n",
    "  tf.keras.layers.Bidirectional(tf.keras.layers.LSTM(150, return_sequences=True), \n",
    "                               input_shape=x_train.shape[-2:]),\n",
    "    tf.keras.layers.Dense(40, activation='tanh'),\n",
    "    tf.keras.layers.Bidirectional(tf.keras.layers.LSTM(150)),\n",
    "    tf.keras.layers.Dense(20, activation='tanh'),\n",
    "    tf.keras.layers.Dropout(0.2),\n",
    "    tf.keras.layers.Dense(units=horizon)\n",
    "])\n",
    "lstm_model.compile(optimizer='adam', loss='mse')#,metrics=['accuracy'])"
   ]
  },
  {
   "cell_type": "code",
   "execution_count": 41,
   "id": "109b0800-7dc4-4028-926f-b986fa03c5ae",
   "metadata": {},
   "outputs": [
    {
     "name": "stdout",
     "output_type": "stream",
     "text": [
      "Model: \"sequential\"\n",
      "_________________________________________________________________\n",
      " Layer (type)                Output Shape              Param #   \n",
      "=================================================================\n",
      " bidirectional (Bidirectiona  (None, 30, 300)          182400    \n",
      " l)                                                              \n",
      "                                                                 \n",
      " dense (Dense)               (None, 30, 40)            12040     \n",
      "                                                                 \n",
      " bidirectional_1 (Bidirectio  (None, 300)              229200    \n",
      " nal)                                                            \n",
      "                                                                 \n",
      " dense_1 (Dense)             (None, 20)                6020      \n",
      "                                                                 \n",
      " dropout (Dropout)           (None, 20)                0         \n",
      "                                                                 \n",
      " dense_2 (Dense)             (None, 30)                630       \n",
      "                                                                 \n",
      "=================================================================\n",
      "Total params: 430,290\n",
      "Trainable params: 430,290\n",
      "Non-trainable params: 0\n",
      "_________________________________________________________________\n"
     ]
    }
   ],
   "source": [
    "lstm_model.summary()"
   ]
  },
  {
   "cell_type": "code",
   "execution_count": 42,
   "id": "29f156fa-5278-4364-a254-d026e95cd68f",
   "metadata": {},
   "outputs": [],
   "source": [
    "model_path = 'Bidirectional_LSTM_Multivariate.h5'\n",
    "early_stopings = tf.keras.callbacks.EarlyStopping(monitor='val_loss', min_delta=0, patience=10, verbose=1, mode='min')\n",
    "checkpoint =  tf.keras.callbacks.ModelCheckpoint(model_path, monitor='val_loss', save_best_only=True, mode='min', verbose=0)\n",
    "callbacks=[early_stopings,checkpoint]"
   ]
  },
  {
   "cell_type": "code",
   "execution_count": 43,
   "id": "f8f087e7-3e4e-4b8d-96d2-e4244f33a723",
   "metadata": {},
   "outputs": [
    {
     "name": "stdout",
     "output_type": "stream",
     "text": [
      "Epoch 1/150\n",
      "100/100 [==============================] - 47s 340ms/step - loss: 0.0206 - val_loss: 0.0428\n",
      "Epoch 2/150\n",
      "100/100 [==============================] - 32s 314ms/step - loss: 0.0171 - val_loss: 0.0415\n",
      "Epoch 3/150\n",
      "100/100 [==============================] - 31s 311ms/step - loss: 0.0167 - val_loss: 0.0418\n",
      "Epoch 4/150\n",
      "100/100 [==============================] - 33s 324ms/step - loss: 0.0166 - val_loss: 0.0418\n",
      "Epoch 5/150\n",
      "100/100 [==============================] - 32s 316ms/step - loss: 0.0165 - val_loss: 0.0421\n",
      "Epoch 6/150\n",
      "100/100 [==============================] - 31s 305ms/step - loss: 0.0164 - val_loss: 0.0406\n",
      "Epoch 7/150\n",
      "100/100 [==============================] - 32s 319ms/step - loss: 0.0163 - val_loss: 0.0389\n",
      "Epoch 8/150\n",
      "100/100 [==============================] - 33s 329ms/step - loss: 0.0162 - val_loss: 0.0393\n",
      "Epoch 9/150\n",
      "100/100 [==============================] - 41s 411ms/step - loss: 0.0162 - val_loss: 0.0393\n",
      "Epoch 10/150\n",
      "100/100 [==============================] - 47s 465ms/step - loss: 0.0161 - val_loss: 0.0393\n",
      "Epoch 11/150\n",
      "100/100 [==============================] - 49s 490ms/step - loss: 0.0161 - val_loss: 0.0410\n",
      "Epoch 12/150\n",
      "100/100 [==============================] - 49s 484ms/step - loss: 0.0161 - val_loss: 0.0409\n",
      "Epoch 13/150\n",
      "100/100 [==============================] - 49s 485ms/step - loss: 0.0161 - val_loss: 0.0410\n",
      "Epoch 14/150\n",
      "100/100 [==============================] - 49s 492ms/step - loss: 0.0160 - val_loss: 0.0404\n",
      "Epoch 15/150\n",
      "100/100 [==============================] - 52s 513ms/step - loss: 0.0161 - val_loss: 0.0389\n",
      "Epoch 16/150\n",
      "100/100 [==============================] - 46s 458ms/step - loss: 0.0160 - val_loss: 0.0395\n",
      "Epoch 17/150\n",
      "100/100 [==============================] - 34s 337ms/step - loss: 0.0160 - val_loss: 0.0405\n",
      "Epoch 18/150\n",
      "100/100 [==============================] - 30s 300ms/step - loss: 0.0159 - val_loss: 0.0399\n",
      "Epoch 19/150\n",
      "100/100 [==============================] - 30s 294ms/step - loss: 0.0159 - val_loss: 0.0406\n",
      "Epoch 20/150\n",
      "100/100 [==============================] - 30s 294ms/step - loss: 0.0159 - val_loss: 0.0396\n",
      "Epoch 21/150\n",
      "100/100 [==============================] - 29s 286ms/step - loss: 0.0159 - val_loss: 0.0402\n",
      "Epoch 22/150\n",
      "100/100 [==============================] - 27s 269ms/step - loss: 0.0158 - val_loss: 0.0394\n",
      "Epoch 23/150\n",
      "100/100 [==============================] - 27s 268ms/step - loss: 0.0158 - val_loss: 0.0393\n",
      "Epoch 24/150\n",
      "100/100 [==============================] - 27s 266ms/step - loss: 0.0158 - val_loss: 0.0403\n",
      "Epoch 25/150\n",
      "100/100 [==============================] - 27s 265ms/step - loss: 0.0158 - val_loss: 0.0411\n",
      "Epoch 25: early stopping\n"
     ]
    }
   ],
   "source": [
    "history = lstm_model.fit(train_data,epochs=150,steps_per_epoch=100,validation_data=val_data,validation_steps=50,verbose=1,callbacks=callbacks)"
   ]
  },
  {
   "cell_type": "code",
   "execution_count": 44,
   "id": "7cabb4d5-3dbe-426c-8fb1-ed921a858115",
   "metadata": {},
   "outputs": [
    {
     "name": "stdout",
     "output_type": "stream",
     "text": [
      "dict_keys(['loss', 'val_loss'])\n"
     ]
    }
   ],
   "source": [
    "# list all data in history\n",
    "print(history.history.keys())"
   ]
  },
  {
   "cell_type": "code",
   "execution_count": 45,
   "id": "310ff41d-263b-418e-a1af-1fa5e85dddb1",
   "metadata": {},
   "outputs": [
    {
     "data": {
      "image/png": "[encoded data removed]",
      "text/plain": [
       "<Figure size 1600x900 with 1 Axes>"
      ]
     },
     "metadata": {},
     "output_type": "display_data"
    }
   ],
   "source": [
    "plt.figure(figsize=(16,9))\n",
    "plt.plot(history.history['loss'])\n",
    "plt.plot(history.history['val_loss'])\n",
    "plt.title('Model loss')\n",
    "plt.ylabel('loss')\n",
    "plt.xlabel('epoch')\n",
    "plt.legend(['train loss', 'validation loss'])\n",
    "plt.show()"
   ]
  },
  {
   "cell_type": "code",
   "execution_count": 46,
   "id": "cad9f3bf-6b74-4d5c-833b-19d217b6ea84",
   "metadata": {},
   "outputs": [],
   "source": [
    "#data_val = X_scaler.fit_transform(df2[[ 'Localidad', 'UPZ', 'Delito', 'Sexo', 'Nombre Dia','Rango del Dia', 'Arma Empleada', 'Numero Hechos']].tail(intervalo_validar))\n",
    "data_val = X_scaler.fit_transform(df2[['Numero Hechos']].tail(horizon))\n",
    "val_rescaled = data_val.reshape(1, data_val.shape[0], data_val.shape[1])"
   ]
  },
  {
   "cell_type": "code",
   "execution_count": 47,
   "id": "0307a6f8-b58c-438e-ac5d-79e4c9182589",
   "metadata": {},
   "outputs": [
    {
     "data": {
      "text/plain": [
       "((30, 1), (262, 30, 1), (1, 30, 1))"
      ]
     },
     "execution_count": 47,
     "metadata": {},
     "output_type": "execute_result"
    }
   ],
   "source": [
    "data_val.shape,x_train.shape,val_rescaled.shape"
   ]
  },
  {
   "cell_type": "code",
   "execution_count": 48,
   "id": "3ec15adc-8ba9-4f3b-b602-b8aca865bbef",
   "metadata": {},
   "outputs": [
    {
     "name": "stdout",
     "output_type": "stream",
     "text": [
      "1/1 [==============================] - 3s 3s/step\n"
     ]
    }
   ],
   "source": [
    "#pred = lstm_model.predict(data_val)\n",
    "\n",
    "pred = lstm_model.predict(val_rescaled)\n",
    "#pred"
   ]
  },
  {
   "cell_type": "code",
   "execution_count": 49,
   "id": "aede6a7a-cb97-494d-bfcf-0dfca6ba6ee2",
   "metadata": {},
   "outputs": [],
   "source": [
    "pred_Inverse = Y_scaler.inverse_transform(pred)"
   ]
  },
  {
   "cell_type": "code",
   "execution_count": 50,
   "id": "de148874-47b7-4c9f-8673-6ff176eafe56",
   "metadata": {},
   "outputs": [],
   "source": [
    "def timeseries_evaluation_metrics_func(y_true, y_pred):\n",
    "    def mean_absolute_percentage_error(y_true, y_pred): \n",
    "        y_true, y_pred = np.array(y_true), np.array(y_pred)\n",
    "        return np.mean(np.abs((y_true - y_pred) / y_true)) * 100\n",
    "    print('Evaluation metric results:-')\n",
    "    print(f'MSE is : {metrics.mean_squared_error(y_true, y_pred)}')\n",
    "    print(f'MAE is : {metrics.mean_absolute_error(y_true, y_pred)}')\n",
    "    print(f'RMSE is : {np.sqrt(metrics.mean_squared_error(y_true, y_pred))}')\n",
    "    print(f'MAPE is : {mean_absolute_percentage_error(y_true, y_pred)}')\n",
    "    print(f'R2 is : {metrics.r2_score(y_true, y_pred)}',end='\\n\\n')"
   ]
  },
  {
   "cell_type": "code",
   "execution_count": 51,
   "id": "5f5af7f7-c7b5-4c87-afd0-801838564390",
   "metadata": {},
   "outputs": [
    {
     "name": "stdout",
     "output_type": "stream",
     "text": [
      "Evaluation metric results:-\n",
      "MSE is : 5.098812796555877\n",
      "MAE is : 1.6595181514819464\n",
      "RMSE is : 2.258055091567935\n",
      "MAPE is : 54.59025139609973\n",
      "R2 is : -1.3118042906298695\n",
      "\n"
     ]
    }
   ],
   "source": [
    "from sklearn import metrics # for the evalution\n",
    "timeseries_evaluation_metrics_func(validate['Numero Hechos'],pred_Inverse[0])"
   ]
  },
  {
   "cell_type": "code",
   "execution_count": 52,
   "id": "b4b9769f-770b-43bc-8855-017ae716fe54",
   "metadata": {},
   "outputs": [
    {
     "data": {
      "image/png": "[encoded data removed]",
      "text/plain": [
       "<Figure size 1600x900 with 1 Axes>"
      ]
     },
     "metadata": {},
     "output_type": "display_data"
    }
   ],
   "source": [
    "plt.figure(figsize=(16,9))\n",
    "plt.plot( list(validate['Numero Hechos']))\n",
    "plt.plot( list(pred_Inverse[0]))\n",
    "plt.title(\"Actual vs Predicted\")\n",
    "plt.ylabel(\"Crimes number\")\n",
    "plt.legend(('Actual','predicted'))\n",
    "plt.show()"
   ]
  },
  {
   "cell_type": "markdown",
   "id": "6fb39744-66dc-4683-b618-fce968792416",
   "metadata": {},
   "source": [
    "https://analyticsindiamag.com/how-to-do-multivariate-time-series-forecasting-using-lstm/"
   ]
  },
  {
   "cell_type": "markdown",
   "id": "667a9ca6-48ba-4a52-ad74-f88318d80f01",
   "metadata": {},
   "source": [
    "## CNN Univariate Horizon Style in Action"
   ]
  },
  {
   "cell_type": "code",
   "execution_count": 53,
   "id": "ad619c13-d3a0-4e77-a01f-b670745ae1c9",
   "metadata": {},
   "outputs": [],
   "source": [
    "from sklearn import preprocessing\n",
    "from tensorflow.keras.models import Sequential\n",
    "from tensorflow.keras.layers import Dense\n",
    "from tensorflow.keras.layers import Flatten\n",
    "from tensorflow.keras.layers import Conv1D\n",
    "from tensorflow.keras.layers import MaxPool1D\n",
    "from tensorflow.keras.layers import Dropout"
   ]
  },
  {
   "cell_type": "code",
   "execution_count": 54,
   "id": "b7e85788-7778-4905-8c12-0eede762a23f",
   "metadata": {},
   "outputs": [],
   "source": [
    "tf.random.set_seed(123)\n",
    "np.random.seed(123)"
   ]
  },
  {
   "cell_type": "code",
   "execution_count": 55,
   "id": "b3ff86de-8417-407e-aa5b-082138f63108",
   "metadata": {},
   "outputs": [],
   "source": [
    "df2=all_data.dropna(subset=['Localidad'])"
   ]
  },
  {
   "cell_type": "code",
   "execution_count": 56,
   "id": "a093ff87-f024-43f4-81d0-28b66aabc48f",
   "metadata": {},
   "outputs": [],
   "source": [
    "# Se escogen las características que se desean para modelar\n",
    "\n",
    "Delito='VIOLENCIA INTRAFAMILIAR'\n",
    "Ano=2019\n",
    "UPZ='CHICO LAGO'"
   ]
  },
  {
   "cell_type": "code",
   "execution_count": 57,
   "id": "f712923e-229c-42bb-9027-5653d604eedf",
   "metadata": {},
   "outputs": [],
   "source": [
    "periodo_prueba=df2[(df2[\"Delito\"]==Delito)&(df2[\"Año\"]>=2018)&(df2[\"Año\"]<=2022)]"
   ]
  },
  {
   "cell_type": "code",
   "execution_count": 58,
   "id": "18552f10-2fbe-438b-88b4-7bdd73f23456",
   "metadata": {},
   "outputs": [
    {
     "data": {
      "text/html": [
       "<div>\n",
       "<style scoped>\n",
       "    .dataframe tbody tr th:only-of-type {\n",
       "        vertical-align: middle;\n",
       "    }\n",
       "\n",
       "    .dataframe tbody tr th {\n",
       "        vertical-align: top;\n",
       "    }\n",
       "\n",
       "    .dataframe thead th {\n",
       "        text-align: right;\n",
       "    }\n",
       "</style>\n",
       "<table border=\"1\" class=\"dataframe\">\n",
       "  <thead>\n",
       "    <tr style=\"text-align: right;\">\n",
       "      <th></th>\n",
       "      <th>Fecha</th>\n",
       "      <th>Año</th>\n",
       "      <th>Nro del Mes</th>\n",
       "      <th>Mes</th>\n",
       "      <th>Localidad</th>\n",
       "      <th>UPZ</th>\n",
       "      <th>Delito</th>\n",
       "      <th>Sexo</th>\n",
       "      <th>Nombre Dia</th>\n",
       "      <th>Rango del Dia</th>\n",
       "      <th>Arma Empleada</th>\n",
       "      <th>Numero Hechos</th>\n",
       "    </tr>\n",
       "  </thead>\n",
       "  <tbody>\n",
       "    <tr>\n",
       "      <th>250167</th>\n",
       "      <td>2018-03-02</td>\n",
       "      <td>2018</td>\n",
       "      <td>3</td>\n",
       "      <td>MAR</td>\n",
       "      <td>19 - CIUDAD BOLÍVAR</td>\n",
       "      <td>ISMAEL PERDOMO</td>\n",
       "      <td>VIOLENCIA INTRAFAMILIAR</td>\n",
       "      <td>FEMENINO</td>\n",
       "      <td>VIERNES</td>\n",
       "      <td>MADRUGADA</td>\n",
       "      <td>NO REPORTADO</td>\n",
       "      <td>8.0</td>\n",
       "    </tr>\n",
       "    <tr>\n",
       "      <th>250194</th>\n",
       "      <td>2018-11-12</td>\n",
       "      <td>2018</td>\n",
       "      <td>11</td>\n",
       "      <td>NOV</td>\n",
       "      <td>07 - BOSA</td>\n",
       "      <td>BOSA CENTRAL</td>\n",
       "      <td>VIOLENCIA INTRAFAMILIAR</td>\n",
       "      <td>FEMENINO</td>\n",
       "      <td>LUNES</td>\n",
       "      <td>NOCHE</td>\n",
       "      <td>NO REPORTADO</td>\n",
       "      <td>8.0</td>\n",
       "    </tr>\n",
       "    <tr>\n",
       "      <th>250196</th>\n",
       "      <td>2018-11-20</td>\n",
       "      <td>2018</td>\n",
       "      <td>11</td>\n",
       "      <td>NOV</td>\n",
       "      <td>11 - SUBA</td>\n",
       "      <td>TIBABUYES</td>\n",
       "      <td>VIOLENCIA INTRAFAMILIAR</td>\n",
       "      <td>MASCULINO</td>\n",
       "      <td>MARTES</td>\n",
       "      <td>MADRUGADA</td>\n",
       "      <td>NO REPORTADO</td>\n",
       "      <td>8.0</td>\n",
       "    </tr>\n",
       "    <tr>\n",
       "      <th>250202</th>\n",
       "      <td>2018-12-10</td>\n",
       "      <td>2018</td>\n",
       "      <td>12</td>\n",
       "      <td>DIC</td>\n",
       "      <td>05 - USME</td>\n",
       "      <td>COMUNEROS</td>\n",
       "      <td>VIOLENCIA INTRAFAMILIAR</td>\n",
       "      <td>FEMENINO</td>\n",
       "      <td>LUNES</td>\n",
       "      <td>TARDE</td>\n",
       "      <td>NO REPORTADO</td>\n",
       "      <td>8.0</td>\n",
       "    </tr>\n",
       "    <tr>\n",
       "      <th>250229</th>\n",
       "      <td>2018-02-26</td>\n",
       "      <td>2018</td>\n",
       "      <td>2</td>\n",
       "      <td>FEB</td>\n",
       "      <td>11 - SUBA</td>\n",
       "      <td>TIBABUYES</td>\n",
       "      <td>VIOLENCIA INTRAFAMILIAR</td>\n",
       "      <td>FEMENINO</td>\n",
       "      <td>LUNES</td>\n",
       "      <td>MAÑANA</td>\n",
       "      <td>NO REPORTADO</td>\n",
       "      <td>7.0</td>\n",
       "    </tr>\n",
       "  </tbody>\n",
       "</table>\n",
       "</div>"
      ],
      "text/plain": [
       "            Fecha   Año  Nro del Mes  Mes            Localidad  \\\n",
       "250167 2018-03-02  2018            3  MAR  19 - CIUDAD BOLÍVAR   \n",
       "250194 2018-11-12  2018           11  NOV            07 - BOSA   \n",
       "250196 2018-11-20  2018           11  NOV            11 - SUBA   \n",
       "250202 2018-12-10  2018           12  DIC            05 - USME   \n",
       "250229 2018-02-26  2018            2  FEB            11 - SUBA   \n",
       "\n",
       "                   UPZ                   Delito       Sexo Nombre Dia  \\\n",
       "250167  ISMAEL PERDOMO  VIOLENCIA INTRAFAMILIAR   FEMENINO    VIERNES   \n",
       "250194    BOSA CENTRAL  VIOLENCIA INTRAFAMILIAR   FEMENINO      LUNES   \n",
       "250196       TIBABUYES  VIOLENCIA INTRAFAMILIAR  MASCULINO     MARTES   \n",
       "250202       COMUNEROS  VIOLENCIA INTRAFAMILIAR   FEMENINO      LUNES   \n",
       "250229       TIBABUYES  VIOLENCIA INTRAFAMILIAR   FEMENINO      LUNES   \n",
       "\n",
       "       Rango del Dia Arma Empleada  Numero Hechos  \n",
       "250167     MADRUGADA  NO REPORTADO            8.0  \n",
       "250194         NOCHE  NO REPORTADO            8.0  \n",
       "250196     MADRUGADA  NO REPORTADO            8.0  \n",
       "250202         TARDE  NO REPORTADO            8.0  \n",
       "250229        MAÑANA  NO REPORTADO            7.0  "
      ]
     },
     "execution_count": 58,
     "metadata": {},
     "output_type": "execute_result"
    }
   ],
   "source": [
    "periodo_prueba.head()"
   ]
  },
  {
   "cell_type": "code",
   "execution_count": 59,
   "id": "a3a1de7c-9ea8-4d7b-a85c-f3aeac78134d",
   "metadata": {},
   "outputs": [],
   "source": [
    "Fecha_Delito_Hechos=periodo_prueba.groupby(['Fecha'])['Numero Hechos'].sum()"
   ]
  },
  {
   "cell_type": "code",
   "execution_count": 60,
   "id": "272c56be-bd56-4e3d-a77b-9e216be70d19",
   "metadata": {},
   "outputs": [],
   "source": [
    "Fecha_Delito_Hechos=Fecha_Delito_Hechos.to_frame().reset_index()"
   ]
  },
  {
   "cell_type": "code",
   "execution_count": 61,
   "id": "58cb668d-d8ef-4134-8e15-ae2c5a962d07",
   "metadata": {},
   "outputs": [
    {
     "data": {
      "text/html": [
       "<div>\n",
       "<style scoped>\n",
       "    .dataframe tbody tr th:only-of-type {\n",
       "        vertical-align: middle;\n",
       "    }\n",
       "\n",
       "    .dataframe tbody tr th {\n",
       "        vertical-align: top;\n",
       "    }\n",
       "\n",
       "    .dataframe thead th {\n",
       "        text-align: right;\n",
       "    }\n",
       "</style>\n",
       "<table border=\"1\" class=\"dataframe\">\n",
       "  <thead>\n",
       "    <tr style=\"text-align: right;\">\n",
       "      <th></th>\n",
       "      <th>Numero Hechos</th>\n",
       "    </tr>\n",
       "  </thead>\n",
       "  <tbody>\n",
       "    <tr>\n",
       "      <th>count</th>\n",
       "      <td>1824.000000</td>\n",
       "    </tr>\n",
       "    <tr>\n",
       "      <th>mean</th>\n",
       "      <td>49.961623</td>\n",
       "    </tr>\n",
       "    <tr>\n",
       "      <th>std</th>\n",
       "      <td>30.527052</td>\n",
       "    </tr>\n",
       "    <tr>\n",
       "      <th>min</th>\n",
       "      <td>4.000000</td>\n",
       "    </tr>\n",
       "    <tr>\n",
       "      <th>25%</th>\n",
       "      <td>29.000000</td>\n",
       "    </tr>\n",
       "    <tr>\n",
       "      <th>50%</th>\n",
       "      <td>42.000000</td>\n",
       "    </tr>\n",
       "    <tr>\n",
       "      <th>75%</th>\n",
       "      <td>60.000000</td>\n",
       "    </tr>\n",
       "    <tr>\n",
       "      <th>max</th>\n",
       "      <td>212.000000</td>\n",
       "    </tr>\n",
       "  </tbody>\n",
       "</table>\n",
       "</div>"
      ],
      "text/plain": [
       "       Numero Hechos\n",
       "count    1824.000000\n",
       "mean       49.961623\n",
       "std        30.527052\n",
       "min         4.000000\n",
       "25%        29.000000\n",
       "50%        42.000000\n",
       "75%        60.000000\n",
       "max       212.000000"
      ]
     },
     "execution_count": 61,
     "metadata": {},
     "output_type": "execute_result"
    }
   ],
   "source": [
    "Fecha_Delito_Hechos.describe()"
   ]
  },
  {
   "cell_type": "code",
   "execution_count": 62,
   "id": "e822771c-d100-43c5-b288-da53602a8707",
   "metadata": {},
   "outputs": [],
   "source": [
    "#Train/test the split\n",
    "\n",
    "validate = Fecha_Delito_Hechos['Numero Hechos'].tail(horizon)\n",
    "Fecha_Delito_Hechos.drop(Fecha_Delito_Hechos['Numero Hechos'].tail(horizon).index,inplace=True)"
   ]
  },
  {
   "cell_type": "code",
   "execution_count": 63,
   "id": "e86b9c21-3852-4768-8421-b227ba5ee22a",
   "metadata": {},
   "outputs": [],
   "source": [
    "#Let’s rescale the data as neural networks are known to converge sooner with better accuracy when features are on the same scale\n",
    "uni_data=Fecha_Delito_Hechos['Numero Hechos']\n",
    "uni_data.index = Fecha_Delito_Hechos['Fecha']\n",
    "uni_data = uni_data.values\n",
    "scaler_x = preprocessing.MinMaxScaler()\n",
    "x_rescaled = scaler_x.fit_transform(uni_data.reshape(-1, 1))"
   ]
  },
  {
   "cell_type": "code",
   "execution_count": 64,
   "id": "b6109fd8-e37d-4820-bda6-520dadc06f03",
   "metadata": {},
   "outputs": [],
   "source": [
    "def custom_ts_univariate_data_prep(dataset, start, end, window,horizon):\n",
    "    X = []\n",
    "    y = []\n",
    "    start = start + window\n",
    "    if end is None:\n",
    "        end = len(dataset) - horizon\n",
    "    for i in range(start, end):\n",
    "        indicesx = range(i-window, i)\n",
    "        X.append(np.reshape(dataset[indicesx], (window, 1)))\n",
    "        indicesy = range(i,i+horizon)\n",
    "        y.append(dataset[indicesy])\n",
    "    return np.array(X), np.array(y)"
   ]
  },
  {
   "cell_type": "code",
   "execution_count": 65,
   "id": "ef478fb3-5a50-4eda-a06f-943ecd79ef15",
   "metadata": {},
   "outputs": [],
   "source": [
    "univar_hist_window = 48\n",
    "horizon = 30\n",
    "TRAIN_SPLIT = 1500\n",
    "x_train_uni, y_train_uni = custom_ts_univariate_data_prep(x_rescaled, 0, TRAIN_SPLIT,univar_hist_window, horizon)\n",
    "x_val_uni, y_val_uni = custom_ts_univariate_data_prep(x_rescaled, TRAIN_SPLIT, None,univar_hist_window,horizon)"
   ]
  },
  {
   "cell_type": "code",
   "execution_count": 66,
   "id": "8da0ee09-9956-4415-88f1-0a8635b601ab",
   "metadata": {},
   "outputs": [],
   "source": [
    "BATCH_SIZE = 256\n",
    "BUFFER_SIZE = 150\n",
    "train_univariate = tf.data.Dataset.from_tensor_slices((x_train_uni, y_train_uni))\n",
    "train_univariate = train_univariate.cache().shuffle(BUFFER_SIZE).batch(BATCH_SIZE).repeat()\n",
    "val_univariate = tf.data.Dataset.from_tensor_slices((x_val_uni,y_val_uni))\n",
    "val_univariate = val_univariate.batch(BATCH_SIZE).repeat()"
   ]
  },
  {
   "cell_type": "code",
   "execution_count": 67,
   "id": "310b4cb4-471b-4635-b983-6a4053fc8b5b",
   "metadata": {},
   "outputs": [],
   "source": [
    "#Define CNN model\n",
    "\n",
    "model = Sequential()\n",
    "model.add(Conv1D(filters=64, kernel_size=3, activation='relu',\n",
    "input_shape=(x_train_uni.shape[1], x_train_uni.shape[2])))\n",
    "model.add(MaxPool1D(pool_size=2))\n",
    "model.add(Dropout(0.2))\n",
    "model.add(Flatten())\n",
    "model.add(Dense(30, activation='relu'))\n",
    "model.add(Dropout(0.2))\n",
    "model.add(Dense(horizon))\n",
    "model.compile(optimizer='adam', loss='mse')"
   ]
  },
  {
   "cell_type": "code",
   "execution_count": 68,
   "id": "bfff5930-e16c-4003-9361-a11959bd5761",
   "metadata": {},
   "outputs": [],
   "source": [
    "model_path = 'CNN_Univarient_1.h5'"
   ]
  },
  {
   "cell_type": "code",
   "execution_count": 69,
   "id": "51197392-c20d-4dae-a966-41ff13d82b8b",
   "metadata": {},
   "outputs": [
    {
     "name": "stdout",
     "output_type": "stream",
     "text": [
      "Epoch 1/150\n",
      "100/100 [==============================] - 4s 25ms/step - loss: 0.0272 - val_loss: 0.0116\n",
      "Epoch 2/150\n",
      "100/100 [==============================] - 2s 20ms/step - loss: 0.0156 - val_loss: 0.0099\n",
      "Epoch 3/150\n",
      "100/100 [==============================] - 2s 25ms/step - loss: 0.0137 - val_loss: 0.0096\n",
      "Epoch 4/150\n",
      "100/100 [==============================] - 2s 21ms/step - loss: 0.0125 - val_loss: 0.0095\n",
      "Epoch 5/150\n",
      "100/100 [==============================] - 2s 23ms/step - loss: 0.0118 - val_loss: 0.0094\n",
      "Epoch 6/150\n",
      "100/100 [==============================] - 2s 23ms/step - loss: 0.0114 - val_loss: 0.0096\n",
      "Epoch 7/150\n",
      "100/100 [==============================] - 2s 21ms/step - loss: 0.0107 - val_loss: 0.0096\n",
      "Epoch 8/150\n",
      "100/100 [==============================] - 2s 21ms/step - loss: 0.0103 - val_loss: 0.0098\n",
      "Epoch 9/150\n",
      "100/100 [==============================] - 2s 20ms/step - loss: 0.0102 - val_loss: 0.0100\n",
      "Epoch 10/150\n",
      "100/100 [==============================] - 2s 23ms/step - loss: 0.0098 - val_loss: 0.0099\n",
      "Epoch 11/150\n",
      "100/100 [==============================] - 2s 20ms/step - loss: 0.0096 - val_loss: 0.0101\n",
      "Epoch 12/150\n",
      "100/100 [==============================] - 2s 19ms/step - loss: 0.0094 - val_loss: 0.0104\n",
      "Epoch 13/150\n",
      "100/100 [==============================] - 2s 20ms/step - loss: 0.0090 - val_loss: 0.0109\n",
      "Epoch 14/150\n",
      "100/100 [==============================] - 2s 19ms/step - loss: 0.0089 - val_loss: 0.0109\n",
      "Epoch 15/150\n",
      "100/100 [==============================] - 2s 19ms/step - loss: 0.0088 - val_loss: 0.0104\n",
      "Epoch 15: early stopping\n"
     ]
    }
   ],
   "source": [
    "EVALUATION_INTERVAL = 100\n",
    "EPOCHS = 150\n",
    "history = model.fit(train_univariate, epochs=EPOCHS,steps_per_epoch=EVALUATION_INTERVAL,validation_data=val_univariate,\n",
    "validation_steps=50,verbose =1,callbacks =[tf.keras.callbacks.EarlyStopping(monitor='val_loss', min_delta=0, patience=10,\n",
    "verbose=1, mode='min'),tf.keras.callbacks.ModelCheckpoint(model_path,monitor='val_loss', save_best_only=True, mode='min',\n",
    "verbose=0)])"
   ]
  },
  {
   "cell_type": "code",
   "execution_count": 70,
   "id": "add6419e-3c12-4a7d-999c-19041e89043d",
   "metadata": {},
   "outputs": [],
   "source": [
    "Trained_model = tf.keras.models.load_model(model_path)"
   ]
  },
  {
   "cell_type": "code",
   "execution_count": 71,
   "id": "094977a7-8ef6-497b-bda3-8f02acd265ac",
   "metadata": {},
   "outputs": [
    {
     "name": "stdout",
     "output_type": "stream",
     "text": [
      "Model: \"sequential_1\"\n",
      "_________________________________________________________________\n",
      " Layer (type)                Output Shape              Param #   \n",
      "=================================================================\n",
      " conv1d (Conv1D)             (None, 46, 64)            256       \n",
      "                                                                 \n",
      " max_pooling1d (MaxPooling1D  (None, 23, 64)           0         \n",
      " )                                                               \n",
      "                                                                 \n",
      " dropout_1 (Dropout)         (None, 23, 64)            0         \n",
      "                                                                 \n",
      " flatten (Flatten)           (None, 1472)              0         \n",
      "                                                                 \n",
      " dense_3 (Dense)             (None, 30)                44190     \n",
      "                                                                 \n",
      " dropout_2 (Dropout)         (None, 30)                0         \n",
      "                                                                 \n",
      " dense_4 (Dense)             (None, 30)                930       \n",
      "                                                                 \n",
      "=================================================================\n",
      "Total params: 45,376\n",
      "Trainable params: 45,376\n",
      "Non-trainable params: 0\n",
      "_________________________________________________________________\n"
     ]
    }
   ],
   "source": [
    "Trained_model.summary()"
   ]
  },
  {
   "cell_type": "code",
   "execution_count": 72,
   "id": "0b28c98c-96e1-48e3-b424-4fbce35e4665",
   "metadata": {},
   "outputs": [
    {
     "data": {
      "image/png": "[encoded data removed]",
      "text/plain": [
       "<Figure size 640x480 with 1 Axes>"
      ]
     },
     "metadata": {},
     "output_type": "display_data"
    }
   ],
   "source": [
    "plt.plot(history.history['loss'])\n",
    "plt.plot(history.history['val_loss'])\n",
    "plt.title('Model loss')\n",
    "plt.ylabel('loss')\n",
    "plt.xlabel('epoch')\n",
    "plt.legend(['train loss', 'validation loss'], loc='upper left')\n",
    "plt.rcParams[\"figure.figsize\"] = [16,9]\n",
    "plt.show()"
   ]
  },
  {
   "cell_type": "code",
   "execution_count": 73,
   "id": "53f53bb8-9d47-4e0b-9b6d-50efdad88eab",
   "metadata": {},
   "outputs": [
    {
     "name": "stdout",
     "output_type": "stream",
     "text": [
      "1/1 [==============================] - 0s 112ms/step\n"
     ]
    },
    {
     "data": {
      "text/plain": [
       "array([[0.38646042, 0.36322618, 0.36932653, 0.36196157, 0.356152  ,\n",
       "        0.43707052, 0.45176542, 0.37735766, 0.42515534, 0.3938732 ,\n",
       "        0.4042562 , 0.40502638, 0.44147998, 0.44593224, 0.50522065,\n",
       "        0.42165583, 0.437127  , 0.47090033, 0.3559028 , 0.46994805,\n",
       "        0.5251149 , 0.42654723, 0.43182617, 0.3985085 , 0.45082885,\n",
       "        0.48309588, 0.5121801 , 0.48238003, 0.4869525 , 0.48761654]],\n",
       "      dtype=float32)"
      ]
     },
     "execution_count": 73,
     "metadata": {},
     "output_type": "execute_result"
    }
   ],
   "source": [
    "# Forecast\n",
    "uni = Fecha_Delito_Hechos['Numero Hechos']\n",
    "validatehori = uni.tail(48)\n",
    "validatehist = validatehori.values\n",
    "scaler_val = preprocessing.MinMaxScaler()\n",
    "val_rescaled = scaler_x.fit_transform(validatehist.reshape(-1, 1))\n",
    "val_rescaled = val_rescaled.reshape((1, val_rescaled.shape[0], 1))\n",
    "Predicted_results = Trained_model.predict(val_rescaled)\n",
    "Predicted_results"
   ]
  },
  {
   "cell_type": "code",
   "execution_count": 74,
   "id": "9701e8a9-ba7a-4dc8-ac15-02f7d701db2c",
   "metadata": {},
   "outputs": [],
   "source": [
    "Predicted_inver_res = scaler_x.inverse_transform(Predicted_results)"
   ]
  },
  {
   "cell_type": "code",
   "execution_count": 75,
   "id": "0e74765a-f128-4245-b56d-681e016f822d",
   "metadata": {},
   "outputs": [
    {
     "name": "stdout",
     "output_type": "stream",
     "text": [
      "Evaluation metric results:-\n",
      "MSE is : 828.5208106577032\n",
      "MAE is : 25.501687240600585\n",
      "RMSE is : 28.784037428020817\n",
      "MAPE is : 182.3701203483808\n",
      "R2 is : -1.2446312009654785\n",
      "\n"
     ]
    }
   ],
   "source": [
    "timeseries_evaluation_metrics_func(validate,Predicted_inver_res[0])"
   ]
  },
  {
   "cell_type": "code",
   "execution_count": 76,
   "id": "f99ae4a4-e2bb-4674-9372-f148878763e9",
   "metadata": {},
   "outputs": [
    {
     "data": {
      "image/png": "[encoded data removed]",
      "text/plain": [
       "<Figure size 1600x900 with 1 Axes>"
      ]
     },
     "metadata": {},
     "output_type": "display_data"
    }
   ],
   "source": [
    "plt.plot( list(validate))\n",
    "plt.plot( list(Predicted_inver_res[0]))\n",
    "plt.title(\"Actual vs Predicted\")\n",
    "plt.ylabel(\"Traffic volume\")\n",
    "plt.legend(('Actual','predicted'))\n",
    "plt.show()"
   ]
  },
  {
   "cell_type": "code",
   "execution_count": 77,
   "id": "dbf6c066-cdd6-4310-a959-277d88239035",
   "metadata": {},
   "outputs": [
    {
     "data": {
      "text/plain": [
       "array([46.689754, 44.784546, 45.284775, 44.680847, 44.204464, 50.83978 ,\n",
       "       52.044765, 45.94333 , 49.86274 , 47.297604, 48.149006, 48.212162,\n",
       "       51.20136 , 51.56644 , 56.428093, 49.57578 , 50.844414, 53.613823,\n",
       "       44.18403 , 53.53574 , 58.05942 , 49.97687 , 50.409748, 47.677696,\n",
       "       51.967964, 54.61386 , 56.998768, 54.555164, 54.930103, 54.98456 ],\n",
       "      dtype=float32)"
      ]
     },
     "execution_count": 77,
     "metadata": {},
     "output_type": "execute_result"
    }
   ],
   "source": [
    "Predicted_inver_res[0]"
   ]
  },
  {
   "cell_type": "code",
   "execution_count": null,
   "id": "430e40e9-0be4-4910-9e6b-8fc62c2fa7c3",
   "metadata": {},
   "outputs": [],
   "source": []
  }
 ],
 "metadata": {
  "kernelspec": {
   "display_name": "Python 3 (ipykernel)",
   "language": "python",
   "name": "python3"
  },
  "language_info": {
   "codemirror_mode": {
    "name": "ipython",
    "version": 3
   },
   "file_extension": ".py",
   "mimetype": "text/x-python",
   "name": "python",
   "nbconvert_exporter": "python",
   "pygments_lexer": "ipython3",
   "version": "3.10.9"
  }
 },
 "nbformat": 4,
 "nbformat_minor": 5
}
